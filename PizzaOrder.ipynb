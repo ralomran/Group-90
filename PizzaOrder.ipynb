{
 "cells": [
  {
   "cell_type": "code",
   "execution_count": null,
   "metadata": {},
   "outputs": [],
   "source": [
    "import os\n",
    "from twilio.rest import Client\n",
    "from twilio.twiml.voice_response import Pause, VoiceResponse, Say\n",
    "\n",
    "account_sid = os.environ['TWILIO_ACCOUNT_SID']\n",
    "auth_token = os.environ['TWILIO_AUTH_TOKEN']\n",
    "client = Client(account_sid, auth_token)\n",
    "\n",
    "pizzeria = input(\"Please enter the exact phone number of the pizzeria you would like to order, with no extra characters or spaces: \")\n",
    "yourstring = \"+1\" + pizzeria\n",
    "order = input(\"Please input the exact pizza you would like:\")\n",
    "amt = int(input(\"If you would only like one pizza, type 1, if you would like more than one press 2\"))\n",
    "quantity = input(\"How many do you want of that order? \")\n",
    "time = input(\"Please enter the estimated time of your arrival: \")\n",
    "\n",
    "dia1 = \"Hi, I would like to place an order for pickup?\"\n",
    "if amt > 1:\n",
    "    order += 's'\n",
    "    dia2 =\"I would like %s %ss, with nothing else added.\" % (quantity , order)\n",
    "elif amt == 1:\n",
    "    dia2 =\"I would like %s %s, with nothing else added.\" % (quantity , order)\n",
    "dia3 =\"That is all I would like to order\"\n",
    "dia4 =\" I plan on arriving at %s\" % (time)\n",
    "dia5 =\"Thanks, see you soon\"\n",
    "\n",
    "\n",
    "\n",
    "\n",
    "response = VoiceResponse()\n",
    "response.say(dia1)\n",
    "response.pause(length=6)\n",
    "response.say(dia2)\n",
    "response.pause(length=5)\n",
    "response.say(dia3)\n",
    "response.pause(length=5)\n",
    "response.say(dia4)\n",
    "response.pause(length=5)\n",
    "response.say(dia5)\n",
    "response.pause(length=6)\n",
    "response.hangup()\n",
    "\n",
    "\n",
    "calldata = str(response)\n",
    "\n",
    "f = open(\"Z:/voice.xml\", \"w\")\n",
    "f.write(calldata)\n",
    "f.close()\n",
    "\n",
    "call = client.calls.create(\n",
    "                        method='GET',\n",
    "                        url='', #enter xml file location here\n",
    "                        to=pizzeria,\n",
    "                        from_='' #enter twilio phone number here\n",
    "                    )\n",
    "\n",
    "print(\"Calling pizzeria now... \" + call.sid)"
   ]
  },
  {
   "cell_type": "code",
   "execution_count": null,
   "metadata": {},
   "outputs": [],
   "source": []
  },
  {
   "cell_type": "code",
   "execution_count": null,
   "metadata": {},
   "outputs": [],
   "source": []
  },
  {
   "cell_type": "code",
   "execution_count": null,
   "metadata": {},
   "outputs": [],
   "source": []
  },
  {
   "cell_type": "code",
   "execution_count": null,
   "metadata": {},
   "outputs": [],
   "source": []
  },
  {
   "cell_type": "code",
   "execution_count": null,
   "metadata": {},
   "outputs": [],
   "source": []
  }
 ],
 "metadata": {
  "kernelspec": {
   "display_name": "Python 3",
   "language": "python",
   "name": "python3"
  },
  "language_info": {
   "codemirror_mode": {
    "name": "ipython",
    "version": 3
   },
   "file_extension": ".py",
   "mimetype": "text/x-python",
   "name": "python",
   "nbconvert_exporter": "python",
   "pygments_lexer": "ipython3",
   "version": "3.6.6"
  }
 },
 "nbformat": 4,
 "nbformat_minor": 2
}
