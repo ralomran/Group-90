{
 "cells": [
  {
   "cell_type": "code",
   "execution_count": 13,
   "metadata": {},
   "outputs": [
    {
     "name": "stdout",
     "output_type": "stream",
     "text": [
      "Please enter the exact phone number of the pizzeria you would like to order, with no extra characters or spaces: 4405323527\n",
      "Please input the exact pizza you would like: cheese pizza\n",
      "Please input the pizza size you would like: small\n",
      "If you would only like one pizza, type 1, if you would like more than one press 2: 1\n",
      "Please enter the estimated time of your arrival: 6pm\n",
      "Calling pizzeria now... CA055bddd72203c757ea469f1e6e7f827c\n"
     ]
    }
   ],
   "source": [
    "import os\n",
    "from twilio.rest import Client\n",
    "from twilio.twiml.voice_response import Pause, VoiceResponse, Say\n",
    "\n",
    "account_sid = os.environ['TWILIO_ACCOUNT_SID'] # account SID goes here\n",
    "auth_token = os.environ['TWILIO_AUTH_TOKEN']   # Auth Token goes here\n",
    "client = Client(account_sid, auth_token)\n",
    "\n",
    "pizzeria = input(\"Please enter the exact phone number of the pizzeria you would like to order, with no extra characters or spaces: \")\n",
    "yourstring = \"+1\" + pizzeria\n",
    "order = input(\"Please input the exact pizza you would like: \")\n",
    "size = input(\"Please input the pizza size you would like: \")\n",
    "amt = int(input(\"If you would only like one pizza, type 1, if you would like more than one press 2: \"))\n",
    "if amt == 1:\n",
    "    quanitity = \"1\"\n",
    "elif amt > 1:\n",
    "    quantity = input(\"How many do you want of that order? \")\n",
    "time = input(\"Please enter the estimated time of your arrival: \")\n",
    "dia1 = \"Hi, I would like to place an order for pickup?\"\n",
    "if amt > 1:\n",
    "    order += 's'\n",
    "    dia2 =\"I would like %s %s %ss, with nothing else added.\" % (quantity , size , order)\n",
    "elif amt == 1:\n",
    "    dia2 =\"I would like %s %s %s, with nothing else added.\" % (quantity , size , order)\n",
    "dia3 =\"That is all I would like to order\"\n",
    "dia4 =\" I plan on arriving at %s\" % (time)\n",
    "dia5 =\"Thanks, see you soon\"\n",
    "\n",
    "\n",
    "\n",
    "\n",
    "response = VoiceResponse()\n",
    "response.say(dia1)\n",
    "response.pause(length=4)\n",
    "response.say(dia2)\n",
    "response.pause(length=4)\n",
    "response.say(dia3)\n",
    "response.pause(length=4)\n",
    "response.say(dia4)\n",
    "response.pause(length=4)\n",
    "response.say(dia5)\n",
    "response.pause(length=5)\n",
    "response.hangup()\n",
    "\n",
    "\n",
    "calldata = str(response)\n",
    "\n",
    "f = open(\"Z:/voice.xml\", \"w\")\n",
    "f.write(calldata)\n",
    "f.close()\n",
    "\n",
    "call = client.calls.create(\n",
    "                        method='GET',\n",
    "                        record=True,\n",
    "                        status_callback='',\n",
    "                        status_callback_method='GET',\n",
    "                        url='', #enter xml file location here\n",
    "                        to=pizzeria,\n",
    "                        from_='' #enter twilio phone number here\n",
    "                    )\n",
    "\n",
    "\n",
    "print(\"Calling pizzeria now... \" + call.sid)"
   ]
  },
  {
   "cell_type": "code",
   "execution_count": null,
   "metadata": {},
   "outputs": [],
   "source": [
    "# NOTE: for this application to function properly, the correct auth token and account SID need to be in the 'client' object\n",
    "\n",
    "# This application also requires a local, publically hosted xml file to be written to, and to pull the transcript from twilio\n",
    "\n",
    "# The url https://demo.twilio.com/welcome/voice/ can be used to text the voice to speech and call service, once the appropriate \n",
    "# credentials are entered"
   ]
  },
  {
   "cell_type": "markdown",
   "metadata": {},
   "source": [
    "The AutoPizza app functions using the following logic:\n",
    "\n",
    "First, the required modules are imported\n",
    "\n",
    "Our client object gathers account information from locally stored variables for security\n",
    "\n",
    "Next we request user input used in the creation of the text to speech dialogue \n",
    "The data collected are the user specifics such as type of pizza, size and pickup time.\n",
    "\n",
    "These strings we collected are put into new strings using the %s operator.\n",
    "\n",
    "These new \"dia\" strings are placed into the appropriate order with the response function, with timed pauses to sound more human.\n",
    "\n",
    "Using the Twilio function voiceresponse(), we turn the the response object into readable twiML (similar to HTML) to be put in an XML file, and store it in a string(calldata)\n",
    "\n",
    "the calldata string is written into a locally hosted xml file, which twilio will pull from from with a GET HTML method\n",
    "\n",
    "Finally, the call is sent out via a create.call call function to the phone number submitted by the user\n",
    "\n",
    "The transcript will be read and the order will be sent to the pizza shop"
   ]
  },
  {
   "cell_type": "code",
   "execution_count": null,
   "metadata": {},
   "outputs": [],
   "source": []
  },
  {
   "cell_type": "code",
   "execution_count": null,
   "metadata": {},
   "outputs": [],
   "source": []
  },
  {
   "cell_type": "code",
   "execution_count": null,
   "metadata": {},
   "outputs": [],
   "source": []
  }
 ],
 "metadata": {
  "kernelspec": {
   "display_name": "Python 3",
   "language": "python",
   "name": "python3"
  },
  "language_info": {
   "codemirror_mode": {
    "name": "ipython",
    "version": 3
   },
   "file_extension": ".py",
   "mimetype": "text/x-python",
   "name": "python",
   "nbconvert_exporter": "python",
   "pygments_lexer": "ipython3",
   "version": "3.6.6"
  }
 },
 "nbformat": 4,
 "nbformat_minor": 2
}
