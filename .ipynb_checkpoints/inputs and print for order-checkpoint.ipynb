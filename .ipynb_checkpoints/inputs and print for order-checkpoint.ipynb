{
 "cells": [
  {
   "cell_type": "code",
   "execution_count": 1,
   "metadata": {},
   "outputs": [
    {
     "name": "stdout",
     "output_type": "stream",
     "text": [
      "pizzeria's phone number: 4356789\n",
      "input your one order in a line of text: cheese pizza\n",
      "How many do you want of that order? three\n",
      "Carryout or Delivery? Carryout\n",
      "Time of pickup: 16:00\n",
      "Hi, may I place an order for Carryout I will pick it up at 16:00 The order is three cheese pizza Thank you, goodbye\n"
     ]
    }
   ],
   "source": [
    "pizzeria = input(\"pizzeria's phone number: \")\n",
    "order = input(\"input your one order in a line of text: \")\n",
    "quantity = input(\"How many do you want of that order? \")\n",
    "method = input(\"Carryout or Delivery? \")\n",
    "time = input(\"Time of pickup: \")\n",
    "\n",
    "\n",
    "print(\"Hi, may I place an order for\", method, \"I will pick it up at\",time , \"The order is\", quantity, order, \"Thank you, goodbye\")"
   ]
  },
  {
   "cell_type": "code",
   "execution_count": 2,
   "metadata": {},
   "outputs": [
    {
     "name": "stdout",
     "output_type": "stream",
     "text": [
      "pizzeria's phone number: 3456789\n",
      "input your one order in a line of text: edfghjkl;\n",
      "How many do you want of that order? fghjkl;\n"
     ]
    },
    {
     "ename": "SyntaxError",
     "evalue": "'return' outside function (<ipython-input-2-a7cf9d4890be>, line 16)",
     "output_type": "error",
     "traceback": [
      "\u001b[1;36m  File \u001b[1;32m\"<ipython-input-2-a7cf9d4890be>\"\u001b[1;36m, line \u001b[1;32m16\u001b[0m\n\u001b[1;33m    return out_method\u001b[0m\n\u001b[1;37m    ^\u001b[0m\n\u001b[1;31mSyntaxError\u001b[0m\u001b[1;31m:\u001b[0m 'return' outside function\n"
     ]
    }
   ],
   "source": [
    "pizzeria = input(\"pizzeria's phone number: \")\n",
    "order = str(input(\"input your one order in a line of text: \"))\n",
    "quantity = input(\"How many do you want of that order? \")\n",
    "\n",
    "\n",
    "while True:\n",
    "    method = str(input(\"Carryout or Delivery? \"))\n",
    "    if method == \"Carryout\" :\n",
    "        out_method = input(\"What time will you pick up your pizza? \")\n",
    "        print(\"Hi, may I place an order for\", method, \"I will pick it up at\",out_method , \"The order is\", quantity, order, \"Thank you, goodbye\")\n",
    "    elif method == \"Delivery\" :\n",
    "        out_method = input(\"What is your address? \")\n",
    "        print(\"Hi, may I place an order for\", method, \"Delivery Address\",out_method , \"The order is\", quantity, order, \"Thank you, goodbye\")\n",
    "    else :\n",
    "        out_method = print(\"input text in same format as above\")\n",
    "    break\n"
   ]
  },
  {
   "cell_type": "code",
   "execution_count": null,
   "metadata": {},
   "outputs": [],
   "source": []
  },
  {
   "cell_type": "code",
   "execution_count": null,
   "metadata": {},
   "outputs": [],
   "source": []
  }
 ],
 "metadata": {
  "kernelspec": {
   "display_name": "Python 3",
   "language": "python",
   "name": "python3"
  },
  "language_info": {
   "codemirror_mode": {
    "name": "ipython",
    "version": 3
   },
   "file_extension": ".py",
   "mimetype": "text/x-python",
   "name": "python",
   "nbconvert_exporter": "python",
   "pygments_lexer": "ipython3",
   "version": "3.6.6"
  }
 },
 "nbformat": 4,
 "nbformat_minor": 2
}
