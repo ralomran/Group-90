{
 "cells": [
  {
   "cell_type": "code",
   "execution_count": 1,
   "metadata": {},
   "outputs": [
    {
     "name": "stdout",
     "output_type": "stream",
     "text": [
      "pizzeria's phone number: 77777\n",
      "input your one order in a line of text: cheese\n",
      "How many do you want of that order? one\n",
      "Carryout or Delivery? carry\n",
      "Time of pickup: 16:00\n",
      "Hi, may I place an order for carry I will pick it up at 16:00 The order is one cheese Thank you, goodbye\n"
     ]
    }
   ],
   "source": [
    "pizzeria = input(\"pizzeria's phone number: \")\n",
    "order = input(\"input your one order in a line of text: \")\n",
    "quantity = input(\"How many do you want of that order? \")\n",
    "method = input(\"Carryout or Delivery? \")\n",
    "time = input(\"Time of pickup: \")\n",
    "\n",
    "\n",
    "print(\"Hi, may I place an order for\", method, \"I will pick it up at\",time , \"The order is\", quantity, order, \"Thank you, goodbye\")"
   ]
  },
  {
   "cell_type": "code",
   "execution_count": null,
   "metadata": {},
   "outputs": [],
   "source": []
  }
 ],
 "metadata": {
  "kernelspec": {
   "display_name": "Python 3",
   "language": "python",
   "name": "python3"
  },
  "language_info": {
   "codemirror_mode": {
    "name": "ipython",
    "version": 3
   },
   "file_extension": ".py",
   "mimetype": "text/x-python",
   "name": "python",
   "nbconvert_exporter": "python",
   "pygments_lexer": "ipython3",
   "version": "3.6.6"
  }
 },
 "nbformat": 4,
 "nbformat_minor": 2
}
