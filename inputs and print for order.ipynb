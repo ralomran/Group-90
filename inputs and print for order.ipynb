{
 "cells": [
  {
   "cell_type": "code",
   "execution_count": null,
   "metadata": {},
   "outputs": [],
   "source": [
    "pizzeria = input(\"pizzeria's phone number: \")\n",
    "order = input(\"input your one order in a line of text: \")\n",
    "quantity = input(\"How many do you want of that order? \")\n",
    "method = input(\"Carryout or Delivery? \")\n",
    "time = input(\"Time of pickup: \")\n",
    "\n",
    "print(type(order))\n",
    "\n",
    "print(\"Hi, may I place an order for\", method, \"I will pick it up at\",time , \"The order is\", quantity, order, \"Thank you, goodbye\")"
   ]
  },
  {
   "cell_type": "code",
   "execution_count": 9,
   "metadata": {},
   "outputs": [
    {
     "name": "stdout",
     "output_type": "stream",
     "text": [
      "pizzeria's phone number: 23456789\n",
      "input your one order in a line of text: cheese pizza\n",
      "How many do you want of that order? two\n",
      "Carryout or Delivery? carryout\n",
      "What time will you pick up your pizza? 12\n",
      "Hi, may I place an order for carryout I will pick it up at 12 The order is two cheese pizza Thank you, goodbye\n"
     ]
    },
    {
     "data": {
      "text/plain": [
       "str"
      ]
     },
     "execution_count": 9,
     "metadata": {},
     "output_type": "execute_result"
    }
   ],
   "source": [
    "pizzeria = input(\"pizzeria's phone number: \")\n",
    "order = str(input(\"input your one order in a line of text: \"))\n",
    "quantity = input(\"How many do you want of that order? \")\n",
    "\n",
    "\n",
    "while True:\n",
    "    method = str(input(\"Carryout or Delivery? \"))\n",
    "    if method == \"Carryout\" :\n",
    "        out_method = input(\"What time will you pick up your pizza? \")\n",
    "        print(\"Hi, may I place an order for\", method, \"I will pick it up at\",out_method , \"The order is\", quantity, order, \"Thank you, goodbye\")\n",
    "    elif method == \"Delivery\" :\n",
    "        out_method = input(\"What is your address? \")\n",
    "        print(\"Hi, may I place an order for\", method, \"Delivery Address\",out_method , \"The order is\", quantity, order, \"Thank you, goodbye\")\n",
    "    elif method == \"carryout\" :\n",
    "        out_method = input(\"What time will you pick up your pizza? \")\n",
    "        print(\"Hi, may I place an order for\", method, \"I will pick it up at\",out_method , \"The order is\", quantity, order, \"Thank you, goodbye\")\n",
    "    elif method == \"delivery\" :\n",
    "        out_method = input(\"What is your address? \")\n",
    "        print(\"Hi, may I place an order for\", method, \"Delivery Address\",out_method , \"The order is\", quantity, order, \"Thank you, goodbye\")\n",
    "    else :\n",
    "        out_method = print(\"input text in same format as above\")\n",
    "    break\n",
    "    \n",
    "type(out_method)"
   ]
  },
  {
   "cell_type": "code",
   "execution_count": null,
   "metadata": {},
   "outputs": [],
   "source": []
  },
  {
   "cell_type": "code",
   "execution_count": null,
   "metadata": {},
   "outputs": [],
   "source": []
  }
 ],
 "metadata": {
  "kernelspec": {
   "display_name": "Python 3",
   "language": "python",
   "name": "python3"
  },
  "language_info": {
   "codemirror_mode": {
    "name": "ipython",
    "version": 3
   },
   "file_extension": ".py",
   "mimetype": "text/x-python",
   "name": "python",
   "nbconvert_exporter": "python",
   "pygments_lexer": "ipython3",
   "version": "3.6.6"
  }
 },
 "nbformat": 4,
 "nbformat_minor": 2
}
