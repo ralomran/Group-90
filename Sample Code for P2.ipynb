{
 "cells": [
  {
   "cell_type": "code",
   "execution_count": 13,
   "metadata": {},
   "outputs": [
    {
     "ename": "SyntaxError",
     "evalue": "invalid syntax (<ipython-input-13-25684925a8a2>, line 1)",
     "output_type": "error",
     "traceback": [
      "\u001b[1;36m  File \u001b[1;32m\"<ipython-input-13-25684925a8a2>\"\u001b[1;36m, line \u001b[1;32m1\u001b[0m\n\u001b[1;33m    Code Sample:\u001b[0m\n\u001b[1;37m              ^\u001b[0m\n\u001b[1;31mSyntaxError\u001b[0m\u001b[1;31m:\u001b[0m invalid syntax\n"
     ]
    }
   ],
   "source": [
    "Code Sample:\n",
    "\n",
    "account_sid = 'ACXXXXXXXXXXXXXXXXXXXXXXXXXXXXXXXX'\n",
    "auth_token = 'your_auth_token'\n",
    "client = Client(account_sid, auth_token)\n",
    "\n",
    "call = client.calls.create(\n",
    "                        url='http://demo.twilio.com/docs/voice.xml',\n",
    "                        to='+15558675310',\n",
    "                        from_='+15017122661'\n",
    "                    )\n",
    "\n",
    "print(call.sid)\n",
    "\n",
    "\n",
    "\n",
    "OUTPUT\n",
    "{\n",
    "  \"account_sid\": \"ACXXXXXXXXXXXXXXXXXXXXXXXXXXXXXXXX\",\n",
    "  \"annotation\": null,\n",
    "  \"answered_by\": null,\n",
    "  \"api_version\": \"2010-04-01\",\n",
    "  \"caller_name\": null,\n",
    "  \"date_created\": \"Tue, 31 Aug 2010 20:36:28 +0000\",\n",
    "  \"date_updated\": \"Tue, 31 Aug 2010 20:36:44 +0000\",\n",
    "  \"direction\": \"inbound\",\n",
    "  \"duration\": \"15\",\n",
    "  \"end_time\": \"Tue, 31 Aug 2010 20:36:44 +0000\",\n",
    "  \"forwarded_from\": \"+141586753093\",\n",
    "  \"from\": \"+15017122661\",\n",
    "  \"from_formatted\": \"(501) 712-2661\",\n",
    "  \"group_sid\": null,\n",
    "  \"parent_call_sid\": null,\n",
    "  \"phone_number_sid\": \"PNXXXXXXXXXXXXXXXXXXXXXXXXXXXXXXXX\",\n",
    "  \"price\": -0.03000,\n",
    "  \"price_unit\": \"USD\",\n",
    "  \"sid\": \"CAXXXXXXXXXXXXXXXXXXXXXXXXXXXXXXXX\",\n",
    "  \"start_time\": \"Tue, 31 Aug 2010 20:36:29 +0000\",\n",
    "  \"status\": \"completed\",\n",
    "  \"subresource_uris\": {\n",
    "    \"notifications\": \"/2010-04-01/Accounts/ACXXXXXXXXXXXXXXXXXXXXXXXXXXXXXXXX/Calls/CAXXXXXXXXXXXXXXXXXXXXXXXXXXXXXXXX/Notifications.json\",\n",
    "    \"recordings\": \"/2010-04-01/Accounts/ACXXXXXXXXXXXXXXXXXXXXXXXXXXXXXXXX/Calls/CAXXXXXXXXXXXXXXXXXXXXXXXXXXXXXXXX/Recordings.json\",\n",
    "    \"feedback\": \"/2010-04-01/Accounts/ACXXXXXXXXXXXXXXXXXXXXXXXXXXXXXXXX/Calls/CAXXXXXXXXXXXXXXXXXXXXXXXXXXXXXXXX/Feedback.json\",\n",
    "    \"feedback_summaries\": \"/2010-04-01/Accounts/ACXXXXXXXXXXXXXXXXXXXXXXXXXXXXXXXX/Calls/FeedbackSummary.json\"\n",
    "  },\n",
    "  \"to\": \"+15558675310\",\n",
    "  \"to_formatted\": \"(555) 867-5310\",\n",
    "  \"uri\": \"/2010-04-01/Accounts/ACXXXXXXXXXXXXXXXXXXXXXXXXXXXXXXXX/Calls/CAXXXXXXXXXXXXXXXXXXXXXXXXXXXXXXXX.json\"\n",
    "}\n",
    "\n"
   ]
  },
  {
   "cell_type": "code",
   "execution_count": null,
   "metadata": {},
   "outputs": [],
   "source": []
  }
 ],
 "metadata": {
  "kernelspec": {
   "display_name": "Python 3",
   "language": "python",
   "name": "python3"
  },
  "language_info": {
   "codemirror_mode": {
    "name": "ipython",
    "version": 3
   },
   "file_extension": ".py",
   "mimetype": "text/x-python",
   "name": "python",
   "nbconvert_exporter": "python",
   "pygments_lexer": "ipython3",
   "version": "3.6.6"
  }
 },
 "nbformat": 4,
 "nbformat_minor": 2
}
